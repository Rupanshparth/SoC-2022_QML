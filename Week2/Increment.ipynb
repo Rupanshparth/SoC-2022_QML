{
 "cells": [
  {
   "cell_type": "code",
   "execution_count": 33,
   "id": "8da83df5",
   "metadata": {},
   "outputs": [],
   "source": [
    "from qiskit import QuantumCircuit, assemble, Aer\n",
    "from math import pi, sqrt\n",
    "from qiskit.visualization import plot_bloch_multivector, plot_histogram,array_to_latex\n",
    "sim = Aer.get_backend('aer_simulator')"
   ]
  },
  {
   "cell_type": "code",
   "execution_count": 36,
   "id": "327f5aa2",
   "metadata": {},
   "outputs": [
    {
     "data": {
      "text/html": [
       "<pre style=\"word-wrap: normal;white-space: pre;background: #fff0;line-height: 1.1;font-family: &quot;Courier New&quot;,Courier,monospace\">                                   \n",
       "q_0: ───────■────■─────────────────\n",
       "            │    │                 \n",
       "q_1: ───────┼────┼────■────■───────\n",
       "            │    │    │    │       \n",
       "q_2: ───────┼────┼────┼────┼────■──\n",
       "     ┌───┐  │  ┌─┴─┐  │    │    │  \n",
       "q_3: ┤ X ├──■──┤ X ├──┼────┼────┼──\n",
       "     └───┘┌─┴─┐└───┘  │  ┌─┴─┐  │  \n",
       "q_4: ─────┤ X ├───────■──┤ X ├──┼──\n",
       "          └───┘     ┌─┴─┐└───┘┌─┴─┐\n",
       "q_5: ───────────────┤ X ├─────┤ X ├\n",
       "                    └───┘     └───┘</pre>"
      ],
      "text/plain": [
       "                                   \n",
       "q_0: ───────■────■─────────────────\n",
       "            │    │                 \n",
       "q_1: ───────┼────┼────■────■───────\n",
       "            │    │    │    │       \n",
       "q_2: ───────┼────┼────┼────┼────■──\n",
       "     ┌───┐  │  ┌─┴─┐  │    │    │  \n",
       "q_3: ┤ X ├──■──┤ X ├──┼────┼────┼──\n",
       "     └───┘┌─┴─┐└───┘  │  ┌─┴─┐  │  \n",
       "q_4: ─────┤ X ├───────■──┤ X ├──┼──\n",
       "          └───┘     ┌─┴─┐└───┘┌─┴─┐\n",
       "q_5: ───────────────┤ X ├─────┤ X ├\n",
       "                    └───┘     └───┘"
      ]
     },
     "execution_count": 36,
     "metadata": {},
     "output_type": "execute_result"
    }
   ],
   "source": [
    "qc = QuantumCircuit(6)\n",
    "\n",
    "qc.x(3)\n",
    "qc.ccx(0,3,4)\n",
    "qc.cx(0,3)\n",
    "qc.ccx(1,4,5)\n",
    "qc.cx(1,4)\n",
    "qc.cx(2,5)\n",
    "qc.draw()"
   ]
  },
  {
   "cell_type": "code",
   "execution_count": 37,
   "id": "babe2d76",
   "metadata": {},
   "outputs": [
    {
     "name": "stdout",
     "output_type": "stream",
     "text": [
      "Statevector([0.+0.j, 0.+0.j, 0.+0.j, 0.+0.j, 0.+0.j, 0.+0.j, 0.+0.j,\n",
      "             0.+0.j, 1.+0.j, 0.+0.j, 0.+0.j, 0.+0.j, 0.+0.j, 0.+0.j,\n",
      "             0.+0.j, 0.+0.j, 0.+0.j, 0.+0.j, 0.+0.j, 0.+0.j, 0.+0.j,\n",
      "             0.+0.j, 0.+0.j, 0.+0.j, 0.+0.j, 0.+0.j, 0.+0.j, 0.+0.j,\n",
      "             0.+0.j, 0.+0.j, 0.+0.j, 0.+0.j, 0.+0.j, 0.+0.j, 0.+0.j,\n",
      "             0.+0.j, 0.+0.j, 0.+0.j, 0.+0.j, 0.+0.j, 0.+0.j, 0.+0.j,\n",
      "             0.+0.j, 0.+0.j, 0.+0.j, 0.+0.j, 0.+0.j, 0.+0.j, 0.+0.j,\n",
      "             0.+0.j, 0.+0.j, 0.+0.j, 0.+0.j, 0.+0.j, 0.+0.j, 0.+0.j,\n",
      "             0.+0.j, 0.+0.j, 0.+0.j, 0.+0.j, 0.+0.j, 0.+0.j, 0.+0.j,\n",
      "             0.+0.j],\n",
      "            dims=(2, 2, 2, 2, 2, 2))\n"
     ]
    }
   ],
   "source": [
    "qc.save_statevector()\n",
    "qobj = assemble(qc)\n",
    "result = sim.run(qobj).result()\n",
    "final_state = result.get_statevector()\n",
    "print(final_state)\n",
    "#array_to_latex(final_state,prefix = \"\\\\text{Statevector =}\")"
   ]
  },
  {
   "cell_type": "code",
   "execution_count": null,
   "id": "e131bf53",
   "metadata": {},
   "outputs": [],
   "source": []
  }
 ],
 "metadata": {
  "kernelspec": {
   "display_name": "Python 3 (ipykernel)",
   "language": "python",
   "name": "python3"
  },
  "language_info": {
   "codemirror_mode": {
    "name": "ipython",
    "version": 3
   },
   "file_extension": ".py",
   "mimetype": "text/x-python",
   "name": "python",
   "nbconvert_exporter": "python",
   "pygments_lexer": "ipython3",
   "version": "3.10.4"
  }
 },
 "nbformat": 4,
 "nbformat_minor": 5
}
