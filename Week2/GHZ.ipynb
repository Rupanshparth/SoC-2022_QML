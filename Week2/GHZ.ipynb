{
 "cells": [
  {
   "cell_type": "code",
   "execution_count": 1,
   "id": "e6935fca",
   "metadata": {},
   "outputs": [],
   "source": [
    "from qiskit import QuantumCircuit, assemble, Aer\n",
    "from math import pi, sqrt\n",
    "from qiskit.visualization import plot_bloch_multivector, plot_histogram,array_to_latex\n",
    "sim = Aer.get_backend('aer_simulator')"
   ]
  },
  {
   "cell_type": "code",
   "execution_count": 16,
   "id": "48b79156",
   "metadata": {},
   "outputs": [
    {
     "data": {
      "text/html": [
       "<pre style=\"word-wrap: normal;white-space: pre;background: #fff0;line-height: 1.1;font-family: &quot;Courier New&quot;,Courier,monospace\">     ┌───┐                    \n",
       "q_0: ┤ H ├──■────■────■────■──\n",
       "     └───┘┌─┴─┐  │    │    │  \n",
       "q_1: ─────┤ X ├──┼────┼────┼──\n",
       "          └───┘┌─┴─┐  │    │  \n",
       "q_2: ──────────┤ X ├──┼────┼──\n",
       "               └───┘┌─┴─┐  │  \n",
       "q_3: ───────────────┤ X ├──┼──\n",
       "                    └───┘┌─┴─┐\n",
       "q_4: ────────────────────┤ X ├\n",
       "                         └───┘</pre>"
      ],
      "text/plain": [
       "     ┌───┐                    \n",
       "q_0: ┤ H ├──■────■────■────■──\n",
       "     └───┘┌─┴─┐  │    │    │  \n",
       "q_1: ─────┤ X ├──┼────┼────┼──\n",
       "          └───┘┌─┴─┐  │    │  \n",
       "q_2: ──────────┤ X ├──┼────┼──\n",
       "               └───┘┌─┴─┐  │  \n",
       "q_3: ───────────────┤ X ├──┼──\n",
       "                    └───┘┌─┴─┐\n",
       "q_4: ────────────────────┤ X ├\n",
       "                         └───┘"
      ]
     },
     "execution_count": 16,
     "metadata": {},
     "output_type": "execute_result"
    }
   ],
   "source": [
    "n = 5\n",
    "qc = QuantumCircuit(n)\n",
    "qc.h(0)\n",
    "for i in range(1,n):\n",
    "    qc.cx(0,i)\n",
    "qc.draw()"
   ]
  },
  {
   "cell_type": "code",
   "execution_count": 17,
   "id": "147d1e0e",
   "metadata": {},
   "outputs": [
    {
     "data": {
      "text/latex": [
       "$$\n",
       "\\text{Statevector =}\n",
       "\\begin{bmatrix}\n",
       "\\tfrac{1}{\\sqrt{2}} & 0 & 0 & 0 & \\cdots & 0 & 0 & \\tfrac{1}{\\sqrt{2}}  \\\\\n",
       " \\end{bmatrix}\n",
       "$$"
      ],
      "text/plain": [
       "<IPython.core.display.Latex object>"
      ]
     },
     "execution_count": 17,
     "metadata": {},
     "output_type": "execute_result"
    }
   ],
   "source": [
    "qc.save_statevector()\n",
    "qobj = assemble(qc)\n",
    "result = sim.run(qobj).result()\n",
    "final_state = result.get_statevector()\n",
    "array_to_latex(final_state,prefix = \"\\\\text{Statevector =}\")"
   ]
  },
  {
   "cell_type": "code",
   "execution_count": null,
   "id": "33fab607",
   "metadata": {},
   "outputs": [],
   "source": []
  }
 ],
 "metadata": {
  "kernelspec": {
   "display_name": "Python 3 (ipykernel)",
   "language": "python",
   "name": "python3"
  },
  "language_info": {
   "codemirror_mode": {
    "name": "ipython",
    "version": 3
   },
   "file_extension": ".py",
   "mimetype": "text/x-python",
   "name": "python",
   "nbconvert_exporter": "python",
   "pygments_lexer": "ipython3",
   "version": "3.10.4"
  }
 },
 "nbformat": 4,
 "nbformat_minor": 5
}
