{
 "cells": [
  {
   "cell_type": "code",
   "execution_count": 11,
   "id": "b34aa6de",
   "metadata": {},
   "outputs": [],
   "source": [
    "from qiskit import QuantumCircuit, assemble, Aer\n",
    "from qiskit.visualization import plot_bloch_multivector, plot_histogram\n",
    "sim = Aer.get_backend('aer_simulator')"
   ]
  },
  {
   "cell_type": "code",
   "execution_count": 12,
   "id": "39f63887",
   "metadata": {},
   "outputs": [
    {
     "data": {
      "text/plain": [
       "<qiskit.circuit.instructionset.InstructionSet at 0x1892da755c0>"
      ]
     },
     "execution_count": 12,
     "metadata": {},
     "output_type": "execute_result"
    }
   ],
   "source": [
    "n = 3\n",
    "dj = QuantumCircuit(n+1)\n",
    "for i in range(n):\n",
    "    dj.h(i)\n",
    "dj.x(n)\n",
    "dj.h(n)"
   ]
  },
  {
   "cell_type": "code",
   "execution_count": 13,
   "id": "79c20752",
   "metadata": {},
   "outputs": [],
   "source": [
    "def constant_oracle():\n",
    "    global dj,n\n",
    "    output = np.random.randint(2)\n",
    "    if output == 1:\n",
    "        dj.x(n)"
   ]
  },
  {
   "cell_type": "code",
   "execution_count": 14,
   "id": "83bdf424",
   "metadata": {},
   "outputs": [],
   "source": [
    "def balanced_oracle():\n",
    "    global dj,n\n",
    "    s = \"101\"\n",
    "    for q in range(len(s)):\n",
    "        if s[q] == '1':\n",
    "            dj.x(q)\n",
    "    dj.barrier()\n",
    "    for q in range(n):\n",
    "        dj.cx(q,n)\n",
    "    dj.barrier()\n",
    "    for q in range(len(s)):\n",
    "        if s[q] == '1':\n",
    "            dj.x(q)"
   ]
  },
  {
   "cell_type": "code",
   "execution_count": null,
   "id": "0545fc2f",
   "metadata": {},
   "outputs": [],
   "source": [
    "Example of Deutsch-Jozsa algorithm acting on balanced oracle."
   ]
  },
  {
   "cell_type": "code",
   "execution_count": 16,
   "id": "df298bba",
   "metadata": {},
   "outputs": [
    {
     "data": {
      "text/html": [
       "<pre style=\"word-wrap: normal;white-space: pre;background: #fff0;line-height: 1.1;font-family: &quot;Courier New&quot;,Courier,monospace\">     ┌───┐┌───┐ ░                 ░ ┌───┐┌───┐\n",
       "q_0: ┤ H ├┤ X ├─░───■─────────────░─┤ X ├┤ H ├\n",
       "     ├───┤└───┘ ░   │             ░ ├───┤└───┘\n",
       "q_1: ┤ H ├──────░───┼────■────────░─┤ H ├─────\n",
       "     ├───┤┌───┐ ░   │    │        ░ ├───┤┌───┐\n",
       "q_2: ┤ H ├┤ X ├─░───┼────┼────■───░─┤ X ├┤ H ├\n",
       "     ├───┤├───┤ ░ ┌─┴─┐┌─┴─┐┌─┴─┐ ░ └───┘└───┘\n",
       "q_3: ┤ X ├┤ H ├─░─┤ X ├┤ X ├┤ X ├─░───────────\n",
       "     └───┘└───┘ ░ └───┘└───┘└───┘ ░           </pre>"
      ],
      "text/plain": [
       "     ┌───┐┌───┐ ░                 ░ ┌───┐┌───┐\n",
       "q_0: ┤ H ├┤ X ├─░───■─────────────░─┤ X ├┤ H ├\n",
       "     ├───┤└───┘ ░   │             ░ ├───┤└───┘\n",
       "q_1: ┤ H ├──────░───┼────■────────░─┤ H ├─────\n",
       "     ├───┤┌───┐ ░   │    │        ░ ├───┤┌───┐\n",
       "q_2: ┤ H ├┤ X ├─░───┼────┼────■───░─┤ X ├┤ H ├\n",
       "     ├───┤├───┤ ░ ┌─┴─┐┌─┴─┐┌─┴─┐ ░ └───┘└───┘\n",
       "q_3: ┤ X ├┤ H ├─░─┤ X ├┤ X ├┤ X ├─░───────────\n",
       "     └───┘└───┘ ░ └───┘└───┘└───┘ ░           "
      ]
     },
     "execution_count": 16,
     "metadata": {},
     "output_type": "execute_result"
    }
   ],
   "source": [
    "balanced_oracle()\n",
    "for i in range(n):\n",
    "    dj.h(i)\n",
    "\n",
    "dj.draw()"
   ]
  }
 ],
 "metadata": {
  "kernelspec": {
   "display_name": "Python 3 (ipykernel)",
   "language": "python",
   "name": "python3"
  },
  "language_info": {
   "codemirror_mode": {
    "name": "ipython",
    "version": 3
   },
   "file_extension": ".py",
   "mimetype": "text/x-python",
   "name": "python",
   "nbconvert_exporter": "python",
   "pygments_lexer": "ipython3",
   "version": "3.10.4"
  }
 },
 "nbformat": 4,
 "nbformat_minor": 5
}
