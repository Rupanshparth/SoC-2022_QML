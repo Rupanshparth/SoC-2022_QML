{
 "cells": [
  {
   "cell_type": "code",
   "execution_count": 4,
   "id": "e9d5d7df",
   "metadata": {},
   "outputs": [],
   "source": [
    "import numpy as np\n",
    "from numpy import pi\n",
    "from qiskit import QuantumCircuit, assemble, Aer\n",
    "from qiskit.visualization import plot_bloch_multivector, plot_histogram\n",
    "sim = Aer.get_backend('aer_simulator')"
   ]
  },
  {
   "cell_type": "code",
   "execution_count": 17,
   "id": "7346cdff",
   "metadata": {},
   "outputs": [
    {
     "data": {
      "text/html": [
       "<pre style=\"word-wrap: normal;white-space: pre;background: #fff0;line-height: 1.1;font-family: &quot;Courier New&quot;,Courier,monospace\">                                          ┌───┐   \n",
       "q_0: ───────────────■─────────────■───────┤ H ├─X─\n",
       "                    │       ┌───┐ │P(π/2) └───┘ │ \n",
       "q_1: ──────■────────┼───────┤ H ├─■─────────────┼─\n",
       "     ┌───┐ │P(π/2)  │P(π/4) └───┘               │ \n",
       "q_2: ┤ H ├─■────────■───────────────────────────X─\n",
       "     └───┘                                        </pre>"
      ],
      "text/plain": [
       "                                          ┌───┐   \n",
       "q_0: ───────────────■─────────────■───────┤ H ├─X─\n",
       "                    │       ┌───┐ │P(π/2) └───┘ │ \n",
       "q_1: ──────■────────┼───────┤ H ├─■─────────────┼─\n",
       "     ┌───┐ │P(π/2)  │P(π/4) └───┘               │ \n",
       "q_2: ┤ H ├─■────────■───────────────────────────X─\n",
       "     └───┘                                        "
      ]
     },
     "execution_count": 17,
     "metadata": {},
     "output_type": "execute_result"
    }
   ],
   "source": [
    "n = 3\n",
    "qft = QuantumCircuit(n)\n",
    "j = n-1\n",
    "k = n-1\n",
    "for i in range(n):\n",
    "    global k,j\n",
    "    qft.h(k)\n",
    "    for b in range(j):\n",
    "        qft.cp(pi/(2**(b+1)), k -(b+1), k)\n",
    "    k = k-1\n",
    "    j = j-1\n",
    "for i in range(int(n/2)):\n",
    "    qft.swap(i,n-1-i)\n",
    "qft.draw()\n",
    "    "
   ]
  },
  {
   "cell_type": "code",
   "execution_count": null,
   "id": "b3a86fbf",
   "metadata": {},
   "outputs": [],
   "source": []
  }
 ],
 "metadata": {
  "kernelspec": {
   "display_name": "Python 3 (ipykernel)",
   "language": "python",
   "name": "python3"
  },
  "language_info": {
   "codemirror_mode": {
    "name": "ipython",
    "version": 3
   },
   "file_extension": ".py",
   "mimetype": "text/x-python",
   "name": "python",
   "nbconvert_exporter": "python",
   "pygments_lexer": "ipython3",
   "version": "3.10.4"
  }
 },
 "nbformat": 4,
 "nbformat_minor": 5
}
