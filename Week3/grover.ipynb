{
 "cells": [
  {
   "cell_type": "code",
   "execution_count": 1,
   "id": "69ab267a",
   "metadata": {},
   "outputs": [],
   "source": [
    "import numpy as np\n",
    "from numpy import pi\n",
    "from qiskit import QuantumCircuit, assemble, Aer\n",
    "from qiskit.visualization import plot_bloch_multivector, plot_histogram\n",
    "sim = Aer.get_backend('aer_simulator')"
   ]
  },
  {
   "cell_type": "code",
   "execution_count": 8,
   "id": "1ae1e517",
   "metadata": {},
   "outputs": [
    {
     "data": {
      "text/html": [
       "<pre style=\"word-wrap: normal;white-space: pre;background: #fff0;line-height: 1.1;font-family: &quot;Courier New&quot;,Courier,monospace\">     ┌───┐   ┌───┐┌───┐   ┌───┐\n",
       "q_0: ┤ H ├─■─┤ H ├┤ Z ├─■─┤ H ├\n",
       "     ├───┤ │ ├───┤├───┤ │ ├───┤\n",
       "q_1: ┤ H ├─■─┤ H ├┤ Z ├─■─┤ H ├\n",
       "     └───┘   └───┘└───┘   └───┘</pre>"
      ],
      "text/plain": [
       "     ┌───┐   ┌───┐┌───┐   ┌───┐\n",
       "q_0: ┤ H ├─■─┤ H ├┤ Z ├─■─┤ H ├\n",
       "     ├───┤ │ ├───┤├───┤ │ ├───┤\n",
       "q_1: ┤ H ├─■─┤ H ├┤ Z ├─■─┤ H ├\n",
       "     └───┘   └───┘└───┘   └───┘"
      ]
     },
     "execution_count": 8,
     "metadata": {},
     "output_type": "execute_result"
    }
   ],
   "source": [
    "grover = QuantumCircuit(2)\n",
    "grover.h([0,1])\n",
    "grover.cz(0,1)\n",
    "grover.h([0,1])\n",
    "grover.z([0,1])\n",
    "grover.cz(0,1)\n",
    "grover.h([0,1])\n",
    "grover.draw()"
   ]
  }
 ],
 "metadata": {
  "kernelspec": {
   "display_name": "Python 3 (ipykernel)",
   "language": "python",
   "name": "python3"
  },
  "language_info": {
   "codemirror_mode": {
    "name": "ipython",
    "version": 3
   },
   "file_extension": ".py",
   "mimetype": "text/x-python",
   "name": "python",
   "nbconvert_exporter": "python",
   "pygments_lexer": "ipython3",
   "version": "3.10.4"
  }
 },
 "nbformat": 4,
 "nbformat_minor": 5
}
