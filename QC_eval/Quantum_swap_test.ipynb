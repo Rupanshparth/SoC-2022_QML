{
 "cells": [
  {
   "cell_type": "markdown",
   "id": "49415965",
   "metadata": {},
   "source": [
    "### Implementation of CSWAP operation.\n",
    "\n",
    "The CSWAP gate exchanges the second and third qubit when the first qubit (LSB) is |1>."
   ]
  },
  {
   "cell_type": "code",
   "execution_count": 15,
   "id": "a26e21fa",
   "metadata": {},
   "outputs": [],
   "source": [
    "import numpy as np\n",
    "from qiskit import QuantumCircuit, assemble, Aer,QuantumRegister, ClassicalRegister,execute, IBMQ\n",
    "from qiskit.tools.monitor import job_monitor\n",
    "sim = Aer.get_backend('aer_simulator')"
   ]
  },
  {
   "cell_type": "code",
   "execution_count": 16,
   "id": "bd50ada2",
   "metadata": {},
   "outputs": [
    {
     "data": {
      "text/html": [
       "<pre style=\"word-wrap: normal;white-space: pre;background: #fff0;line-height: 1.1;font-family: &quot;Courier New&quot;,Courier,monospace\">          \n",
       "q21_0: ─■─\n",
       "        │ \n",
       "q21_1: ─X─\n",
       "        │ \n",
       "q21_2: ─X─\n",
       "          </pre>"
      ],
      "text/plain": [
       "          \n",
       "q21_0: ─■─\n",
       "        │ \n",
       "q21_1: ─X─\n",
       "        │ \n",
       "q21_2: ─X─\n",
       "          "
      ]
     },
     "execution_count": 16,
     "metadata": {},
     "output_type": "execute_result"
    }
   ],
   "source": [
    "q = QuantumRegister(3)\n",
    "qc = QuantumCircuit(q)\n",
    "qc.cswap(q[0],q[1],q[2])\n",
    "qc.draw()"
   ]
  },
  {
   "cell_type": "markdown",
   "id": "b71ff14d",
   "metadata": {},
   "source": [
    "### Implementing the Quantum swap circuit\n",
    "\n",
    "#### How is the inner product estimated?\n",
    "\n",
    "Initially the state of the system is $|0>|\\psi>|\\phi>$, after passing the ancilla bit through the hadamard gate the state changes to $1/\\sqrt(2)(|0> + |1>)|\\psi>|\\phi>$, then after the passing through the cswap gate the state becomes $1/\\sqrt(2)(|0>|\\psi>|\\phi> + |1>|\\phi>|\\psi>)$, then the second hadamard gate results in 1/2|0⟩(|ϕ⟩|ψ⟩+|ψ⟩|ϕ⟩)+1/2|1⟩(|ϕ⟩|ψ⟩−|ψ⟩|ϕ⟩).\n",
    "Then the measurement gate measures |1> with probability \n",
    "1/2(⟨ϕ|⟨ψ| - ⟨ψ|⟨ϕ|)1/2(|ϕ⟩|ψ⟩ - |ψ⟩|ϕ⟩) = 1/2 - 1/2$|<\\psi|\\phi>|^2$. From this we can extract the value of inner product."
   ]
  },
  {
   "cell_type": "code",
   "execution_count": 20,
   "id": "2ff4ded4",
   "metadata": {},
   "outputs": [
    {
     "name": "stdout",
     "output_type": "stream",
     "text": [
      "      ┌───┐   ┌───┐┌─┐\n",
      "qq_0: ┤ H ├─■─┤ H ├┤M├\n",
      "      ├───┤ │ └───┘└╥┘\n",
      "qq_1: ┤ X ├─X───────╫─\n",
      "      └───┘ │       ║ \n",
      "qq_2: ──────X───────╫─\n",
      "                    ║ \n",
      " c: 1/══════════════╩═\n",
      "                    0 \n",
      "Job Status: job has successfully run\n",
      "Squared Inner Product: -0.007200000000000095\n",
      "Counts:  {'0': 4964, '1': 5036}\n"
     ]
    }
   ],
   "source": [
    "qq = QuantumRegister(3,'qq')\n",
    "c = ClassicalRegister(1,'c')\n",
    "\n",
    "circuit = QuantumCircuit(qq,c)\n",
    "\n",
    "circuit.h(qq[0]) #Applying a Hadamard gate\n",
    "circuit.x(qq[1]) #Comment to make both states non-orthogonal\n",
    "circuit.cswap(qq[0],qq[1],qq[2]) # Contolled SWAP gate\n",
    "circuit.h(qq[0])\n",
    "circuit.measure(qq[0],c[0]) #Measuring the qubit\n",
    "\n",
    "print(circuit)\n",
    "\n",
    "nShots = 10000\n",
    "job = execute(circuit, sim, shots=nShots)\n",
    "\n",
    "job_monitor(job)\n",
    "\n",
    "counts = job.result().get_counts()\n",
    "\n",
    "if '1' in counts:\n",
    "    b = counts['1']\n",
    "else:\n",
    "    b = 0\n",
    "    \n",
    "s = 1-(2/nShots)*(b)\n",
    "\n",
    "print(\"Squared Inner Product:\",str(s))\n",
    "print(\"Counts: \",counts)"
   ]
  },
  {
   "cell_type": "code",
   "execution_count": null,
   "id": "64da900f",
   "metadata": {},
   "outputs": [],
   "source": []
  }
 ],
 "metadata": {
  "kernelspec": {
   "display_name": "Python 3 (ipykernel)",
   "language": "python",
   "name": "python3"
  },
  "language_info": {
   "codemirror_mode": {
    "name": "ipython",
    "version": 3
   },
   "file_extension": ".py",
   "mimetype": "text/x-python",
   "name": "python",
   "nbconvert_exporter": "python",
   "pygments_lexer": "ipython3",
   "version": "3.10.4"
  }
 },
 "nbformat": 4,
 "nbformat_minor": 5
}
