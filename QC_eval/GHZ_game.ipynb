{
 "cells": [
  {
   "cell_type": "markdown",
   "id": "9b5560f9",
   "metadata": {},
   "source": [
    "### Classical Case\n",
    "Let's reconstruct the quesiton in the following way.\n",
    "First, instead of the referee giving 0 or 1 bits to the players he gives the letters X or Y.\n",
    "And the players instead of returning the bits 0 and 1 will return the numbers +1 and -1.\n",
    "Then the players will win the game when one of the below conditions is satisfied.\n",
    "\n",
    " $$Xa*Xb*Xc = 1$$\n",
    " $$Xa*Yb*Yc = -1$$\n",
    " $$Xb*Ya*Yc = -1$$\n",
    " $$Xc*Yb*Ya = -1$$\n",
    "\n",
    "On multiplying the above equations we get \n",
    "$$(Xa)^2(Xb)^2(Xc)^2(Ya)^2(Yb)^2(Yc)^2 = -1$$\n",
    "\n",
    "Which is a contradiction, so it is impossible to have a chance of winning all the time.\n",
    "But we can still find strategies in which the chance of winning is highest. One strategy is given below.\n",
    "- player A gives +1 as the output irrespective of the letter he recieves.\n",
    "- player B and C give the output +1 and -1 for inputs X and Y respectively.\n",
    "\n",
    "Similar strategies or otherwise simply assigning fixed return values to different players so that the output is -1 will atmost allow the players to win 75 percent of the time."
   ]
  },
  {
   "cell_type": "markdown",
   "id": "2f2d4d8e",
   "metadata": {},
   "source": [
    "### Quantum Case\n",
    "Suppose that the three players share an entangled state\n",
    "\n",
    "|psi> = 1/2(|000> - |011> - |101> - |110>)\n",
    "\n",
    "and each player applies Hadamard gate on their corresponding qubit if they recieve 1 and does nothing if they recieve 0, and finally measure their qubits and inform their measured bit then the chance of winning becomes 100 percent. \n",
    "\n",
    "Total cases we have are {0,0,0},{0,1,1},{1,0,1} and {1,1,0}. For case 1, the measurement will result in 0 and hence the players will win for any measurement.\n",
    "\n",
    "For case 2, the resulting state will be |psi> = 1/2(|001> + |010> + |111> - |100>). This will give 1 and as a result and hence the players will win irrespective of the measurement result.\n",
    "\n",
    "Similarly the other two cases also result in a definite win."
   ]
  },
  {
   "cell_type": "code",
   "execution_count": null,
   "id": "024bc4cb",
   "metadata": {},
   "outputs": [],
   "source": []
  }
 ],
 "metadata": {
  "kernelspec": {
   "display_name": "Python 3 (ipykernel)",
   "language": "python",
   "name": "python3"
  },
  "language_info": {
   "codemirror_mode": {
    "name": "ipython",
    "version": 3
   },
   "file_extension": ".py",
   "mimetype": "text/x-python",
   "name": "python",
   "nbconvert_exporter": "python",
   "pygments_lexer": "ipython3",
   "version": "3.10.4"
  }
 },
 "nbformat": 4,
 "nbformat_minor": 5
}
